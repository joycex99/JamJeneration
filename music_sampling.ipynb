{
 "cells": [
  {
   "cell_type": "markdown",
   "metadata": {},
   "source": [
    "# JAM JENERATION\n",
    "\n",
    "Starter code taken from this blog post on [jazz improvisation](https://www.hackerearth.com/blog/machine-learning/jazz-music-using-deep-learning/) with [Github repo](https://github.com/shubham3121/music-generation-using-rnn)"
   ]
  },
  {
   "cell_type": "code",
   "execution_count": 1,
   "metadata": {},
   "outputs": [
    {
     "name": "stderr",
     "output_type": "stream",
     "text": [
      "Using TensorFlow backend.\n",
      "music21: Certain music21 functions might need the optional package matplotlib;\n",
      "                  if you run into errors, install it by following the instructions at\n",
      "                  http://mit.edu/music21/doc/installing/installAdditional.html\n"
     ]
    },
    {
     "name": "stdout",
     "output_type": "stream",
     "text": [
      "pygame 1.9.4\n",
      "Hello from the pygame community. https://www.pygame.org/contribute.html\n"
     ]
    }
   ],
   "source": [
    "import sys\n",
    "import re\n",
    "import os\n",
    "from collections import Counter\n",
    "\n",
    "import numpy as np \n",
    "import pandas as pd\n",
    "import itertools\n",
    "from sklearn.feature_extraction import DictVectorizer\n",
    "from sklearn.model_selection import train_test_split\n",
    "from sklearn.preprocessing import normalize\n",
    "\n",
    "from sklearn.linear_model import LogisticRegression\n",
    "from sklearn.multioutput import MultiOutputClassifier\n",
    "import sklearn.metrics\n",
    "from keras.utils import np_utils\n",
    "\n",
    "from glob import glob\n",
    "import IPython\n",
    "import pickle\n",
    "\n",
    "import music21\n",
    "\n",
    "import play # requires pygame installation"
   ]
  },
  {
   "cell_type": "code",
   "execution_count": 2,
   "metadata": {},
   "outputs": [],
   "source": [
    "from music21 import converter, instrument, note, chord, stream"
   ]
  },
  {
   "cell_type": "code",
   "execution_count": 3,
   "metadata": {},
   "outputs": [
    {
     "name": "stdout",
     "output_type": "stream",
     "text": [
      "Number of songs: 26\n",
      "['Beethoven/waldstein_1.mid', 'Beethoven/beethoven_opus90_2.mid', 'Beethoven/waldstein_2.mid', 'Beethoven/beethoven_opus90_1.mid', 'Beethoven/waldstein_3.mid']\n"
     ]
    }
   ],
   "source": [
    "# Any directory with .mid files in here is acceptable. We have 3 in Jazz and 26 in Beethoven.\n",
    "\n",
    "songs = glob('Beethoven/*.mid')\n",
    "print(\"Number of songs: {}\".format(len(songs)))\n",
    "print(songs[:5])"
   ]
  },
  {
   "cell_type": "markdown",
   "metadata": {},
   "source": [
    "# Data Processing\n",
    "\n",
    "There are three rough steps to data preprocessing:\n",
    "1. Featurizing\n",
    "2. Vectorizing\n",
    "3. Extracting sequences from list\n",
    "\n",
    "Featurizing is the most customizable (how to extract features from notes, chords etc.). Below is an example simple featurizer where we ignore chords and pretend that all songs are just sequences of individual notes. Given a window of previous notes, we attempt to predict the next one."
   ]
  },
  {
   "cell_type": "markdown",
   "metadata": {},
   "source": [
    "### Featurizing Songs\n",
    "\n",
    "For each song, we convert it to a list of dictionary representation, where each dictionary represents the feature extraction for a given note/chord. This is the \"featurizer\" method. For every featurizer method, we also need an inverse method to go from feature dictionary to music21 stream.\n",
    "\n",
    "Simple encoding:\n",
    "\n",
    "it might look like:\n",
    "\n",
    "[{\"G5\": 1},  {\"C3\": 1, \"E3: 1}, . . .]\n",
    "\n",
    "`featurize_song` goes from MIDI file to list of feature dictionaries. `songify_features` does the reverse and goes to a music21 stream. These methods can be customized for new encodings of our songs."
   ]
  },
  {
   "cell_type": "code",
   "execution_count": 4,
   "metadata": {},
   "outputs": [],
   "source": [
    "def featurize_song_simple(song_file):\n",
    "    \"\"\"\n",
    "    Simple featurizer, featurizing each note/chord as just a one-note dictionary\n",
    "    For chords in our piece, featurize the note of our top note.\n",
    "    i.e. [{F#5: 1}, {C#7: 1}, {C5: 1}, etc.]\n",
    "    \n",
    "    Parameters:\n",
    "    song_file: path to MIDI file of given song\n",
    "    \n",
    "    Returns list of featurized notes.\n",
    "    \"\"\"\n",
    "    features_list = []\n",
    "    midi = converter.parse(song_file)\n",
    "\n",
    "    # Given a single stream, partition into a part for each unique instrument\n",
    "    try:\n",
    "        parts = instrument.partitionByInstrument(midi)\n",
    "    except:\n",
    "        pass\n",
    "    \n",
    "    notes_to_parse = []\n",
    "    if parts: # if parts has instrument parts \n",
    "        notes_to_parse = parts.parts[0].recurse()\n",
    "    else:\n",
    "        notes_to_parse = midi.flat.notes\n",
    "\n",
    "    for element in notes_to_parse:\n",
    "        feature_dict = {}\n",
    "        if isinstance(element, note.Note):\n",
    "            # Featurize the pitch of notes\n",
    "            feature_dict[str(element.pitch)] = 1\n",
    "        elif(isinstance(element, chord.Chord)):\n",
    "            # Featurize the first pitch of chords\n",
    "            feature_dict[str(element.pitches[0])] = 1\n",
    "        if feature_dict:\n",
    "            # Only add entries with actual features\n",
    "            features_list.append(feature_dict)\n",
    "\n",
    "    print(\"Feautrized song {}\".format(song_file))\n",
    "    return features_list"
   ]
  },
  {
   "cell_type": "code",
   "execution_count": 5,
   "metadata": {},
   "outputs": [],
   "source": [
    "def songify_features_simple(features_list):\n",
    "    \"\"\"\n",
    "    Given a list representing a song's feature dictionaries, returns a music21 stream\n",
    "    representing that song.\n",
    "    Simple featurizer: for chords in our piece, featurize the note of our top note.\n",
    "    i.e. [{F#5: 1}, {C#7: 1}, {C5: 1}, etc.]\n",
    "    \n",
    "    Parameters:\n",
    "    features_list: list as described above\n",
    "    \n",
    "    Returns: music21 stream object\n",
    "    \"\"\"\n",
    "    s = stream.Stream()\n",
    "    for feat_dict in features_list:\n",
    "        n = list(feat_dict.keys())[0]\n",
    "        s.append(note.Note(n))\n",
    "    return s"
   ]
  },
  {
   "cell_type": "code",
   "execution_count": 6,
   "metadata": {},
   "outputs": [
    {
     "name": "stdout",
     "output_type": "stream",
     "text": [
      "Feautrized song Jazz/CameronLeeSimpson-.mid\n",
      "[{'A3': 1}, {'B-3': 1}, {'D5': 1}, {'D4': 1}, {'F3': 1}, {'G5': 1}, {'F3': 1}, {'B-2': 1}, {'D5': 1}, {'F3': 1}]\n"
     ]
    },
    {
     "data": {
      "image/png": "[encoded data removed]",
      "text/plain": [
       "<IPython.core.display.Image object>"
      ]
     },
     "metadata": {
      "image/png": {
       "height": 78,
       "width": 748
      }
     },
     "output_type": "display_data"
    }
   ],
   "source": [
    "# Test our featurizing and reverse-featurizing methods\n",
    "sample_midi_path = \"Jazz/CameronLeeSimpson-.mid\"\n",
    "sample_features_list = featurize_song_simple(sample_midi_path)\n",
    "print(sample_features_list[10:20])\n",
    "sample_stream = songify_features_simple(sample_features_list[10:20])\n",
    "sample_stream.show()"
   ]
  },
  {
   "cell_type": "markdown",
   "metadata": {},
   "source": [
    "### Vectorize All Songs\n",
    "\n",
    "In which we take all songs in a given directory path, featurize all of them, then convert all feature dictionaries to vector representations using sklearn's DictVectorizer"
   ]
  },
  {
   "cell_type": "code",
   "execution_count": 7,
   "metadata": {},
   "outputs": [],
   "source": [
    "def vectorize_songs(featurizer, dir_path):\n",
    "    \"\"\"\n",
    "    Takes in a directory path containing some MIDI folders.\n",
    "    Featurizes all MIDI files in that path, vectorizes all, returns huge list of vectors.\n",
    "    \n",
    "    Parameters:\n",
    "    featurizer: a featurizer as described in the earlier section\n",
    "    \n",
    "    Returns:\n",
    "    encodings: a numpy array of encoded vectors\n",
    "    vectorizer: the sklearn DictVectorizer() object used to generate encodings. Can be used to decode.\n",
    "    \"\"\"\n",
    "    songs = glob(os.path.join(dir_path, '*.mid'))\n",
    "    features_list = []\n",
    "    for song in songs:\n",
    "        song_feats = featurizer(song)\n",
    "        features_list += song_feats\n",
    "    \n",
    "    # TODO: Screen out UNK tokens if not frequent enough\n",
    "    # TODO: Could make vectorizer sparse for performance. Currently not sparse for interpretability.\n",
    "    vectorizer = DictVectorizer(sparse=False) \n",
    "    vectorizer.fit(features_list)\n",
    "    print(\"Number of distinct notes: {}\".format(len(vectorizer.feature_names_)))\n",
    "    return vectorizer.transform(features_list), vectorizer"
   ]
  },
  {
   "cell_type": "code",
   "execution_count": 8,
   "metadata": {},
   "outputs": [
    {
     "name": "stdout",
     "output_type": "stream",
     "text": [
      "Feautrized song Jazz/CameronLeeSimpson-.mid\n",
      "Feautrized song Jazz/AndreandSchwandt-aLittleDream.mid\n",
      "Feautrized song Jazz/Berckman-Berckman.mid\n",
      "Number of distinct notes: 50\n"
     ]
    },
    {
     "data": {
      "text/plain": [
       "array([0., 0., 0., 0., 0., 0., 0., 0., 0., 0., 0., 0., 0., 0., 0., 0., 0.,\n",
       "       0., 0., 0., 0., 0., 0., 0., 0., 0., 0., 1., 0., 0., 0., 0., 0., 0.,\n",
       "       0., 0., 0., 0., 0., 0., 0., 0., 0., 0., 0., 0., 0., 0., 0., 0.])"
      ]
     },
     "execution_count": 8,
     "metadata": {},
     "output_type": "execute_result"
    }
   ],
   "source": [
    "sample_jazz_vecs, sample_jazz_vectorizer = vectorize_songs(featurize_song_simple, \"Jazz\")\n",
    "sample_jazz_vecs[0]"
   ]
  },
  {
   "cell_type": "markdown",
   "metadata": {},
   "source": [
    "### Prepare Sequences\n",
    "\n",
    "Given a sequence of vector representations, breaks it into training sets and labels.\n",
    "\n",
    "For example if `sequence_length` is 10, then it will take a sequeence of vector representations, and break into all possible sequences of 11 notes. Each first ten notes will be a training input, each 11th note will be the label."
   ]
  },
  {
   "cell_type": "code",
   "execution_count": 9,
   "metadata": {},
   "outputs": [],
   "source": [
    "def prepare_vector_sequences(vector_list, sequence_length):\n",
    "    \"\"\"\n",
    "    Prepares list vectors for one-hot encoding input into classifer\n",
    "    \n",
    "    Parameters:\n",
    "    vector_list: list of vectors; each vector represents a note/chord; sequence of vectors represents songs\n",
    "    sequence_length: how many previous words to consider in sliding window\n",
    "    \n",
    "    Returns:\n",
    "    X: a list of training examples, where each training example are concatenations of encoded vectors\n",
    "        Each training input in X is thus (sequence_length * n_vocab) in length\n",
    "    y: a list of vector representations. Each vector corresponds to the next vector in corresponding sequence from X\n",
    "    \"\"\"\n",
    "\n",
    "    # Slide a window over our notes, adding sequences to dataset\n",
    "    X, y = [], []\n",
    "    for i in range(0, len(vector_list) - sequence_length):\n",
    "        sequence_in = vector_list[i : i + sequence_length]\n",
    "        sequence_in = np.concatenate(sequence_in, axis=None)\n",
    "        label_out = vector_list[i + sequence_length]\n",
    "        X.append(sequence_in)\n",
    "        y.append(label_out)\n",
    "    \n",
    "    return X, y"
   ]
  },
  {
   "cell_type": "code",
   "execution_count": 10,
   "metadata": {},
   "outputs": [
    {
     "name": "stdout",
     "output_type": "stream",
     "text": [
      "Number of training examples: 722\n",
      "First 5 jazz outputs: [{'A3': 1.0}, {'B-3': 1.0}, {'D5': 1.0}, {'D4': 1.0}, {'F3': 1.0}]\n"
     ]
    }
   ],
   "source": [
    "# Test our vector sequences and labels to make sure they align with earlier jazz test\n",
    "sample_jazz_X, sample_jazz_y = prepare_vector_sequences(sample_jazz_vecs, 10)\n",
    "print(\"Number of training examples: {}\".format(len(sample_jazz_X)))\n",
    "sample_jazz_outputs = sample_jazz_vectorizer.inverse_transform(sample_jazz_y[:5])\n",
    "print(\"First 5 jazz outputs: {}\".format(sample_jazz_outputs))"
   ]
  },
  {
   "cell_type": "markdown",
   "metadata": {},
   "source": [
    "# extract_dataset\n",
    "\n",
    "In which we tie together featurizing, vectorizing, and sequence extraction into one unified method. This should be highly customizable so we can plug in any featurizer and sequence_length in to generate our datasets."
   ]
  },
  {
   "cell_type": "code",
   "execution_count": 11,
   "metadata": {},
   "outputs": [],
   "source": [
    "def extract_dataset(dir_path, featurizer, sequence_length):\n",
    "    \"\"\"\n",
    "    The core data extraction method.\n",
    "\n",
    "    Parameters:\n",
    "    dir_path: path to directory of songs to extract data from\n",
    "    featurizer: featurizing method to extract feature dictionaries from notes\n",
    "        (e.g. featurize_song_simple)\n",
    "    sequence_length: how many songs to store in each window\n",
    "    \n",
    "    Returns:\n",
    "    X: input dataset of vector-encoded sequences\n",
    "    y: output labels, also vector-encoded\n",
    "    vectorizer: an sklearn DictVectorizer, which can decode vector representations to features\n",
    "    \"\"\"\n",
    "    \n",
    "    vector_list, vectorizer = vectorize_songs(featurizer, dir_path)\n",
    "    X, y = prepare_vector_sequences(vector_list, sequence_length)\n",
    "    return X, y, vectorizer"
   ]
  },
  {
   "cell_type": "markdown",
   "metadata": {},
   "source": [
    "# Baseline: Logistic Regression\n",
    "\n",
    "In this simpler problem, we assume that each sequence of notes has one and only one note succeeding it. This makes it a multi-class output problem, so we use sklearn's MultiOutputClassifier.\n",
    "\n",
    "Later we'll have to expand it to multi-label problem for chords.\n",
    "\n",
    "Note that the following train-test split procedure could be somewhat flawed. We don't split on unseen (unheard) songs, so a melody that appears multiple times in one song could be picked up later on in the model.\n",
    "\n",
    "We also have to predict categorical-vectors instead of just labels.\n",
    "\n",
    "Maybe you should have used a MultipleLabelBinarizer for this instead? This wrapper code is really janky"
   ]
  },
  {
   "cell_type": "code",
   "execution_count": 12,
   "metadata": {},
   "outputs": [
    {
     "name": "stdout",
     "output_type": "stream",
     "text": [
      "Feautrized song Beethoven/waldstein_1.mid\n",
      "Feautrized song Beethoven/beethoven_opus90_2.mid\n",
      "Feautrized song Beethoven/waldstein_2.mid\n",
      "Feautrized song Beethoven/beethoven_opus90_1.mid\n",
      "Feautrized song Beethoven/waldstein_3.mid\n",
      "Feautrized song Beethoven/beethoven_opus10_2.mid\n",
      "Feautrized song Beethoven/beethoven_opus10_3.mid\n",
      "Feautrized song Beethoven/elise.mid\n",
      "Feautrized song Beethoven/beethoven_opus10_1.mid\n",
      "Feautrized song Beethoven/beethoven_les_adieux_3.mid\n",
      "Feautrized song Beethoven/pathetique_1.mid\n",
      "Feautrized song Beethoven/mond_1.mid\n",
      "Feautrized song Beethoven/beethoven_les_adieux_2.mid\n",
      "Feautrized song Beethoven/mond_3.mid\n",
      "Feautrized song Beethoven/pathetique_2.mid\n",
      "Feautrized song Beethoven/pathetique_3.mid\n",
      "Feautrized song Beethoven/mond_2.mid\n",
      "Feautrized song Beethoven/beethoven_les_adieux_1.mid\n",
      "Feautrized song Beethoven/beethoven_opus22_1.mid\n",
      "Feautrized song Beethoven/beethoven_opus22_2.mid\n",
      "Feautrized song Beethoven/beethoven_hammerklavier_4.mid\n",
      "Feautrized song Beethoven/beethoven_opus22_3.mid\n",
      "Feautrized song Beethoven/beethoven_hammerklavier_1.mid\n",
      "Feautrized song Beethoven/beethoven_opus22_4.mid\n",
      "Feautrized song Beethoven/beethoven_hammerklavier_3.mid\n",
      "Feautrized song Beethoven/beethoven_hammerklavier_2.mid\n",
      "Number of distinct notes: 78\n",
      "Train set size: 63404\n",
      "Test set size: 11189\n"
     ]
    }
   ],
   "source": [
    "simple_X, simple_y, simple_vectorizer = extract_dataset(\"Beethoven\", featurize_song_simple, 10)\n",
    "simple_X, simple_y = np.array(simple_X), np.array(simple_y)\n",
    "simple_X_train, simple_X_test, simple_y_train, simple_y_test = train_test_split(simple_X, simple_y, test_size=0.15)\n",
    "simple_y_train[:5]\n",
    "print(\"Train set size: {}\".format(len(simple_y_train)))\n",
    "print(\"Test set size: {}\".format(len(simple_y_test)))"
   ]
  },
  {
   "cell_type": "code",
   "execution_count": 13,
   "metadata": {},
   "outputs": [
    {
     "data": {
      "text/plain": [
       "MultiOutputClassifier(estimator=LogisticRegression(C=1.0, class_weight=None, dual=False, fit_intercept=True,\n",
       "          intercept_scaling=1, max_iter=100, multi_class='warn',\n",
       "          n_jobs=None, penalty='l2', random_state=None, solver='liblinear',\n",
       "          tol=0.0001, verbose=0, warm_start=False),\n",
       "           n_jobs=None)"
      ]
     },
     "execution_count": 13,
     "metadata": {},
     "output_type": "execute_result"
    }
   ],
   "source": [
    "# We use OneVsRest to implement multilabel classification\n",
    "multiclass_logistic_model = MultiOutputClassifier(LogisticRegression(solver='liblinear'))\n",
    "multiclass_logistic_model.fit(simple_X_train, simple_y_train)"
   ]
  },
  {
   "cell_type": "code",
   "execution_count": 14,
   "metadata": {},
   "outputs": [
    {
     "name": "stdout",
     "output_type": "stream",
     "text": [
      "11189\n"
     ]
    }
   ],
   "source": [
    "# Outputs probabilities for each item.\n",
    "# Note simple_preds_test[i][j] is the probability of label i for sample j\n",
    "simple_preds_test = multiclass_logistic_model.predict_proba(simple_X_test)\n",
    "print(len(simple_preds_test[2]))"
   ]
  },
  {
   "cell_type": "code",
   "execution_count": 15,
   "metadata": {},
   "outputs": [],
   "source": [
    "def multioutput_predict_wrapper(model, x_in):\n",
    "    \"\"\"\n",
    "    Work In Progress. Really shitty right now.\n",
    "    TODO: Handle multiple input examples with reshaping\n",
    "    Given multioutput model, and a SINLGE INPUT EXAMPLE to predict,\n",
    "    outputs vector predictions in proper format.\n",
    "    \n",
    "    Currenly just outputs one-hot vector with the max element encoded as 1\n",
    "    \"\"\"\n",
    "    x_in = x_in.reshape(1, -1)\n",
    "    probs = model.predict_proba(x_in)\n",
    "    probs = [p[1] for sample in probs for p in sample] # p of each class\n",
    "    max_prob = max(probs)\n",
    "    return np.array([1 if i == max_prob else 0 for i in probs])"
   ]
  },
  {
   "cell_type": "code",
   "execution_count": 25,
   "metadata": {},
   "outputs": [],
   "source": [
    "def multioutput_predict_random_wrapper(model, x_in):\n",
    "    \"\"\"\n",
    "    Work In Progress. Really shitty right now.\n",
    "    TODO: Handle multiple input examples with reshaping\n",
    "    Given multioutput model, and a SINLGE INPUT EXAMPLE to predict,\n",
    "    outputs vector predictions in proper format.\n",
    "    \n",
    "    Currenly outputs a random choice drawn from the probability distribution of predictions\n",
    "    \"\"\"\n",
    "    x_in = x_in.reshape(1, -1)\n",
    "    probs = model.predict_proba(x_in)\n",
    "    probs = np.array([p[1] for sample in probs for p in sample]) # p of each class\n",
    "    probs = probs / np.sum(probs)\n",
    "    output = np.zeros(len(probs))\n",
    "    if np.random.uniform() > 1:\n",
    "        # Randomish: Draw from generated probability distribution\n",
    "        chosen_idx = np.random.choice(len(probs), p=probs)\n",
    "        output[chosen_idx] = 1\n",
    "    else:\n",
    "        output[probs == max(probs)] = 1\n",
    "    return output"
   ]
  },
  {
   "cell_type": "code",
   "execution_count": 26,
   "metadata": {},
   "outputs": [
    {
     "data": {
      "text/plain": [
       "array([0., 0., 0., 0., 0., 0., 0., 0., 1., 0., 0., 0., 0., 0., 0., 0., 0.,\n",
       "       0., 0., 0., 0., 0., 0., 0., 0., 0., 0., 0., 0., 0., 0., 0., 0., 0.,\n",
       "       0., 0., 0., 0., 0., 0., 0., 0., 0., 0., 0., 0., 0., 0., 0., 0., 0.,\n",
       "       0., 0., 0., 0., 0., 0., 0., 0., 0., 0., 0., 0., 0., 0., 0., 0., 0.,\n",
       "       0., 0., 0., 0., 0., 0., 0., 0., 0., 0.])"
      ]
     },
     "execution_count": 26,
     "metadata": {},
     "output_type": "execute_result"
    }
   ],
   "source": [
    "multioutput_predict_random_wrapper(multiclass_logistic_model, simple_X_test[0])"
   ]
  },
  {
   "cell_type": "markdown",
   "metadata": {},
   "source": [
    "### Composing!\n",
    "\n",
    "In which we attempt to use our previous work to generate a melody and play it.\n",
    "\n",
    "Work in progress. We display and show notes, but haven't yet done the heavy lifting of actually composing."
   ]
  },
  {
   "cell_type": "code",
   "execution_count": 27,
   "metadata": {},
   "outputs": [],
   "source": [
    "def compose(model, composition_length, sequence_length, vectorizer, inverse_featurizer, model_wrapper=None, offset=20):\n",
    "    \"\"\"\n",
    "    Composes a list of notes given model, model_wrapper, vectorizer, inverse_featurizer\n",
    "    \n",
    "    Model_wrapper: if our wrapper needs prediction(ie multiclass above)\n",
    "    offset: how offset we are from music seed\n",
    "    \n",
    "    Returns:\n",
    "    music21 stream with composition\n",
    "    \"\"\"\n",
    "    \n",
    "    # Randomize music seed - could do better\n",
    "    num_features = len(vectorizer.vocabulary_)\n",
    "    composition = np.zeros((sequence_length, num_features))\n",
    "    for i in range(sequence_length):\n",
    "        composition[i][np.random.randint(num_features)] = 1\n",
    "    \n",
    "    # Begin composing list of vectors\n",
    "    for i in range(composition_length + offset):\n",
    "        seed = np.concatenate(composition[-sequence_length:], axis=None)\n",
    "        next_note = None\n",
    "        if model_wrapper:\n",
    "            next_note = model_wrapper(model, seed)\n",
    "        else:\n",
    "            next_note = model.predict(seed) #untested\n",
    "        composition = np.vstack([composition, next_note])\n",
    "    \n",
    "    composition = composition[offset + sequence_length:]\n",
    "    composition = vectorizer.inverse_transform(composition)\n",
    "    composition = inverse_featurizer(composition)\n",
    "    return composition"
   ]
  },
  {
   "cell_type": "code",
   "execution_count": 28,
   "metadata": {},
   "outputs": [],
   "source": [
    "def play_stream(our_stream, save_path=None):\n",
    "    \"\"\"\n",
    "    Displays notes, plays audio, saves MIDI file for a given music21 stream object\n",
    "    \"\"\"\n",
    "    # We use music21 to read in notes, play.py to play music\n",
    "    # Unfortunately, music21 midi player doesn't work with Jupyter so we use play.py\n",
    "    our_stream.show()\n",
    "    save_path = save_path or 'output/temp_stream.midi'\n",
    "    our_stream.write('midi', save_path)\n",
    "    play.play_midi(save_path)"
   ]
  },
  {
   "cell_type": "code",
   "execution_count": 34,
   "metadata": {},
   "outputs": [],
   "source": [
    "our_composition = compose(multiclass_logistic_model, 50, 10, simple_vectorizer, songify_features_simple, multioutput_predict_random_wrapper)"
   ]
  },
  {
   "cell_type": "code",
   "execution_count": null,
   "metadata": {},
   "outputs": [
    {
     "data": {
      "image/png": "[encoded data removed]",
      "text/plain": [
       "<IPython.core.display.Image object>"
      ]
     },
     "metadata": {
      "image/png": {
       "height": 191,
       "width": 751
      }
     },
     "output_type": "display_data"
    },
    {
     "name": "stdout",
     "output_type": "stream",
     "text": [
      "Music file output/logreg_composition2.midi loaded!\n"
     ]
    }
   ],
   "source": [
    "play_stream(our_composition, save_path='output/logreg_composition2.midi')"
   ]
  },
  {
   "cell_type": "markdown",
   "metadata": {},
   "source": [
    "# LSTM Models\n",
    "\n",
    "(Work in Progress)"
   ]
  },
  {
   "cell_type": "markdown",
   "metadata": {},
   "source": [
    "## Extracting Chords and Notes"
   ]
  },
  {
   "cell_type": "code",
   "execution_count": 53,
   "metadata": {},
   "outputs": [],
   "source": [
    "def get_notes():\n",
    "    notes = []\n",
    "    for file in songs:\n",
    "        # converting .mid file to stream object\n",
    "        midi = converter.parse(file)\n",
    "        notes_to_parse = []\n",
    "        try:\n",
    "            # Given a single stream, partition into a part for each unique instrument\n",
    "            parts = instrument.partitionByInstrument(midi)\n",
    "        except:\n",
    "            pass\n",
    "        if parts: # if parts has instrument parts \n",
    "            notes_to_parse = parts.parts[0].recurse()\n",
    "        else:\n",
    "            notes_to_parse = midi.flat.notes\n",
    "    \n",
    "        for element in notes_to_parse: \n",
    "            if isinstance(element, note.Note):\n",
    "                # if element is a note, extract pitch\n",
    "                notes.append(str(element.pitch))\n",
    "            elif(isinstance(element, chord.Chord)):\n",
    "                # if element is a chord, append the normal form of the \n",
    "                # chord (a list of integers) to the list of notes. \n",
    "                notes.append('.'.join(str(n) for n in element.normalOrder))\n",
    "    with open('data/notes', 'wb') as filepath:\n",
    "        pickle.dump(notes, filepath)\n",
    "    \n",
    "    return notes"
   ]
  },
  {
   "cell_type": "code",
   "execution_count": 54,
   "metadata": {},
   "outputs": [
    {
     "data": {
      "text/plain": [
       "['G3', 'F2', 'F3', 'E2', '10.2.4', 'E3', '7.10.0', '0', '10.0.4', '7.10.0']"
      ]
     },
     "execution_count": 54,
     "metadata": {},
     "output_type": "execute_result"
    }
   ],
   "source": [
    "get_notes()[145:155]"
   ]
  },
  {
   "cell_type": "markdown",
   "metadata": {},
   "source": [
    "## Preparing Sequence Vectors"
   ]
  },
  {
   "cell_type": "code",
   "execution_count": 6,
   "metadata": {
    "collapsed": true
   },
   "outputs": [],
   "source": [
    "def prepare_sequences(notes, n_vocab): \n",
    "    sequence_length = 100\n",
    "\n",
    "    # Extract the unique pitches in the list of notes.\n",
    "    pitchnames = sorted(set(item for item in notes))\n",
    "\n",
    "    # Create a dictionary to map pitches to integers\n",
    "    note_to_int = dict((note, number) for number, note in enumerate(pitchnames))\n",
    "\n",
    "    network_input = []\n",
    "    network_output = []\n",
    "\n",
    "    # create input sequences and the corresponding outputs\n",
    "    for i in range(0, len(notes) - sequence_length, 1):\n",
    "        sequence_in = notes[i: i + sequence_length]\n",
    "        sequence_out = notes[i + sequence_length]\n",
    "        network_input.append([note_to_int[char] for char in sequence_in])\n",
    "        network_output.append(note_to_int[sequence_out])\n",
    "    \n",
    "    n_patterns = len(network_input)\n",
    "    \n",
    "    # reshape the input into a format comatible with LSTM layers \n",
    "    network_input = np.reshape(network_input, (n_patterns, sequence_length, 1))\n",
    "    \n",
    "    # normalize input\n",
    "    network_input = network_input / float(n_vocab)\n",
    "    \n",
    "    # one hot encode the output vectors\n",
    "    network_output = np_utils.to_categorical(network_output)\n",
    "    \n",
    "    return (network_input, network_output)"
   ]
  },
  {
   "cell_type": "code",
   "execution_count": null,
   "metadata": {},
   "outputs": [],
   "source": []
  },
  {
   "cell_type": "markdown",
   "metadata": {},
   "source": [
    "## LSTM Model"
   ]
  },
  {
   "cell_type": "code",
   "execution_count": 35,
   "metadata": {
    "collapsed": true
   },
   "outputs": [],
   "source": [
    "from keras.models import Sequential\n",
    "from keras.layers import Activation, Dense, LSTM, Dropout, Flatten\n",
    "def create_network(network_in, n_vocab): \n",
    "    \"\"\"Create the model architecture\"\"\"\n",
    "    model = Sequential()\n",
    "    model.add(LSTM(128, input_shape=(100,1), return_sequences=True)) # network_in.shape[1:]\n",
    "    model.add(Dropout(0.2))\n",
    "    model.add(LSTM(128, return_sequences=True))\n",
    "    model.add(Flatten())\n",
    "    model.add(Dense(256))\n",
    "    model.add(Dropout(0.3))\n",
    "    model.add(Dense(n_vocab))\n",
    "    model.add(Activation('softmax'))\n",
    "    model.compile(loss='categorical_crossentropy', optimizer='adam')\n",
    "#     print(network_in.shape[1:])\n",
    "\n",
    "    return model"
   ]
  },
  {
   "cell_type": "code",
   "execution_count": 27,
   "metadata": {
    "collapsed": true
   },
   "outputs": [],
   "source": [
    "from keras.callbacks import ModelCheckpoint\n",
    "def train(model, network_input, network_output, epochs): \n",
    "    \"\"\"\n",
    "    Train the neural network\n",
    "    \"\"\"\n",
    "    # Create checkpoint to save the best model weights.\n",
    "    filepath = 'weights.best.music3.hdf5'\n",
    "    checkpoint = ModelCheckpoint(filepath, monitor='loss', verbose=0, save_best_only=True)\n",
    "    \n",
    "    model.fit(network_input, network_output, epochs=epochs, batch_size=32, callbacks=[checkpoint])"
   ]
  },
  {
   "cell_type": "code",
   "execution_count": 40,
   "metadata": {
    "collapsed": true
   },
   "outputs": [],
   "source": [
    "def train_network():\n",
    "    \"\"\"\n",
    "    Get notes\n",
    "    Generates input and output sequences\n",
    "    Creates a model \n",
    "    Trains the model for the given epochs\n",
    "    \"\"\"\n",
    "    \n",
    "    epochs = 50\n",
    "    \n",
    "    notes = get_notes()\n",
    "    print('Notes processed')\n",
    "    \n",
    "    n_vocab = len(set(notes))\n",
    "    print('Vocab generated')\n",
    "    \n",
    "    network_in, network_out = prepare_sequences(notes, n_vocab)\n",
    "    print('Input and Output processed')\n",
    "    \n",
    "    model = create_network(network_in, n_vocab)\n",
    "    print('Model created')\n",
    "#     return model\n",
    "    print('Training in progress')\n",
    "    train(model, network_in, network_out, epochs)\n",
    "    print('Training completed')\n",
    "    \n",
    "    return model\n",
    "    "
   ]
  },
  {
   "cell_type": "code",
   "execution_count": 41,
   "metadata": {
    "scrolled": true
   },
   "outputs": [
    {
     "name": "stdout",
     "output_type": "stream",
     "text": [
      "Notes processed\n",
      "Vocab generated\n",
      "Input and Output processed\n",
      "Model created\n",
      "Training in progress\n",
      "Epoch 1/50\n",
      "632/632 [==============================] - 7s 11ms/step - loss: 4.0883\n",
      "Epoch 2/50\n",
      "632/632 [==============================] - 5s 8ms/step - loss: 3.6452\n",
      "Epoch 3/50\n",
      "632/632 [==============================] - 5s 7ms/step - loss: 3.4801\n",
      "Epoch 4/50\n",
      "632/632 [==============================] - 5s 7ms/step - loss: 3.3889\n",
      "Epoch 5/50\n",
      "632/632 [==============================] - 5s 7ms/step - loss: 3.2978\n",
      "Epoch 6/50\n",
      "632/632 [==============================] - 5s 7ms/step - loss: 3.2238\n",
      "Epoch 7/50\n",
      "632/632 [==============================] - 5s 8ms/step - loss: 3.1480\n",
      "Epoch 8/50\n",
      "632/632 [==============================] - 5s 8ms/step - loss: 3.0585\n",
      "Epoch 9/50\n",
      "632/632 [==============================] - 5s 8ms/step - loss: 2.9736\n",
      "Epoch 10/50\n",
      "632/632 [==============================] - 5s 8ms/step - loss: 2.9379\n",
      "Epoch 11/50\n",
      "632/632 [==============================] - 5s 7ms/step - loss: 2.8721\n",
      "Epoch 12/50\n",
      "632/632 [==============================] - 5s 8ms/step - loss: 2.8011\n",
      "Epoch 13/50\n",
      "632/632 [==============================] - 5s 8ms/step - loss: 2.7385\n",
      "Epoch 14/50\n",
      "632/632 [==============================] - 5s 8ms/step - loss: 2.7061\n",
      "Epoch 15/50\n",
      "632/632 [==============================] - 5s 8ms/step - loss: 2.6192\n",
      "Epoch 16/50\n",
      "632/632 [==============================] - 5s 7ms/step - loss: 2.5448\n",
      "Epoch 17/50\n",
      "632/632 [==============================] - 5s 7ms/step - loss: 2.3793\n",
      "Epoch 18/50\n",
      "632/632 [==============================] - 5s 8ms/step - loss: 2.3556\n",
      "Epoch 19/50\n",
      "632/632 [==============================] - 6s 9ms/step - loss: 2.2337\n",
      "Epoch 20/50\n",
      "632/632 [==============================] - 6s 10ms/step - loss: 2.1257\n",
      "Epoch 21/50\n",
      "632/632 [==============================] - 5s 8ms/step - loss: 1.9678\n",
      "Epoch 22/50\n",
      "632/632 [==============================] - 5s 8ms/step - loss: 1.8232\n",
      "Epoch 23/50\n",
      "632/632 [==============================] - 5s 7ms/step - loss: 1.7921\n",
      "Epoch 24/50\n",
      "632/632 [==============================] - 4s 7ms/step - loss: 1.5969\n",
      "Epoch 25/50\n",
      "632/632 [==============================] - 5s 7ms/step - loss: 1.5500\n",
      "Epoch 26/50\n",
      "632/632 [==============================] - 5s 8ms/step - loss: 1.4538\n",
      "Epoch 27/50\n",
      "632/632 [==============================] - 5s 8ms/step - loss: 1.3952\n",
      "Epoch 28/50\n",
      "632/632 [==============================] - 5s 8ms/step - loss: 1.3082\n",
      "Epoch 29/50\n",
      "632/632 [==============================] - 5s 8ms/step - loss: 1.1772\n",
      "Epoch 30/50\n",
      "632/632 [==============================] - 5s 7ms/step - loss: 1.0515\n",
      "Epoch 31/50\n",
      "632/632 [==============================] - 5s 7ms/step - loss: 1.0113\n",
      "Epoch 32/50\n",
      "632/632 [==============================] - 5s 8ms/step - loss: 0.9338\n",
      "Epoch 33/50\n",
      "632/632 [==============================] - 5s 8ms/step - loss: 0.8060\n",
      "Epoch 34/50\n",
      "632/632 [==============================] - 5s 8ms/step - loss: 0.7533\n",
      "Epoch 35/50\n",
      "632/632 [==============================] - 5s 7ms/step - loss: 0.5816\n",
      "Epoch 36/50\n",
      "632/632 [==============================] - 5s 7ms/step - loss: 0.5690\n",
      "Epoch 37/50\n",
      "632/632 [==============================] - 5s 7ms/step - loss: 0.4832\n",
      "Epoch 38/50\n",
      "632/632 [==============================] - 5s 8ms/step - loss: 0.4077\n",
      "Epoch 39/50\n",
      "632/632 [==============================] - 5s 7ms/step - loss: 0.3622\n",
      "Epoch 40/50\n",
      "632/632 [==============================] - 4s 7ms/step - loss: 0.3601\n",
      "Epoch 41/50\n",
      "632/632 [==============================] - 5s 7ms/step - loss: 0.3309\n",
      "Epoch 42/50\n",
      "632/632 [==============================] - 5s 7ms/step - loss: 0.3275\n",
      "Epoch 43/50\n",
      "632/632 [==============================] - 4s 7ms/step - loss: 0.2647\n",
      "Epoch 44/50\n",
      "632/632 [==============================] - 4s 7ms/step - loss: 0.2078\n",
      "Epoch 45/50\n",
      "632/632 [==============================] - 4s 7ms/step - loss: 0.2075\n",
      "Epoch 46/50\n",
      "632/632 [==============================] - 4s 7ms/step - loss: 0.2023\n",
      "Epoch 47/50\n",
      "632/632 [==============================] - 4s 7ms/step - loss: 0.1868\n",
      "Epoch 48/50\n",
      "632/632 [==============================] - 4s 7ms/step - loss: 0.1659\n",
      "Epoch 49/50\n",
      "632/632 [==============================] - 5s 7ms/step - loss: 0.1681\n",
      "Epoch 50/50\n",
      "632/632 [==============================] - 5s 7ms/step - loss: 0.1694\n",
      "Training completed\n"
     ]
    }
   ],
   "source": [
    "### Train the model \n",
    "model = train_network()"
   ]
  },
  {
   "cell_type": "markdown",
   "metadata": {},
   "source": [
    "## Composition\n",
    "\n",
    "In which we take a model and actually generate music!"
   ]
  },
  {
   "cell_type": "code",
   "execution_count": 42,
   "metadata": {
    "collapsed": true
   },
   "outputs": [],
   "source": [
    "def generate(model=None):\n",
    "    \"\"\" Generate a piano midi file \"\"\"\n",
    "    #load the notes used to train the model\n",
    "    with open('data/notes', 'rb') as filepath:\n",
    "        notes = pickle.load(filepath)\n",
    "\n",
    "    # Get all pitch names\n",
    "    pitchnames = sorted(set(item for item in notes))\n",
    "    # Get all pitch names\n",
    "    n_vocab = len(set(notes))\n",
    "    \n",
    "    print('Initiating music generation process.......')\n",
    "    \n",
    "    network_input = get_inputSequences(notes, pitchnames, n_vocab)\n",
    "    \n",
    "#             reshaped_input = np.reshape(pattern, (1, len(pattern), 1))\n",
    "#         prediction_input = prediction_input / float(n_vocab)\n",
    "        \n",
    "    if not model:\n",
    "        model = create_network(network_input, n_vocab)\n",
    "        print('Loading Model weights.....')\n",
    "        model.load_weights('weights.best.music3.hdf5')\n",
    "    else:\n",
    "        print('Using given model')\n",
    "    \n",
    "    print('Model Loaded')\n",
    "    prediction_output = generate_notes(model, network_input, pitchnames, n_vocab)\n",
    "    create_midi(prediction_output)"
   ]
  },
  {
   "cell_type": "code",
   "execution_count": 43,
   "metadata": {
    "collapsed": true
   },
   "outputs": [],
   "source": [
    "def get_inputSequences(notes, pitchnames, n_vocab):\n",
    "    \"\"\" Prepare the sequences used by the Neural Network \"\"\"\n",
    "    # map between notes and integers and back\n",
    "    note_to_int = dict((note, number) for number, note in enumerate(pitchnames))\n",
    "\n",
    "    sequence_length = 100\n",
    "    network_input = []\n",
    "    for i in range(0, len(notes) - sequence_length, 1):\n",
    "        sequence_in = notes[i:i + sequence_length]\n",
    "        network_input.append([note_to_int[char] for char in sequence_in])\n",
    "\n",
    "    return (network_input)"
   ]
  },
  {
   "cell_type": "code",
   "execution_count": 44,
   "metadata": {
    "collapsed": true
   },
   "outputs": [],
   "source": [
    "def generate_notes(model, network_input, pitchnames, n_vocab):\n",
    "    \"\"\" Generate notes from the neural network based on a sequence of notes \"\"\"\n",
    "    # Pick a random integer\n",
    "    start = np.random.randint(0, len(network_input)-1)\n",
    "\n",
    "    int_to_note = dict((number, note) for number, note in enumerate(pitchnames))\n",
    "    \n",
    "    # pick a random sequence from the input as a starting point for the prediction\n",
    "    pattern = network_input[start]\n",
    "    prediction_output = []\n",
    "    \n",
    "    print('Generating notes........')\n",
    "\n",
    "    # generate 500 notes\n",
    "    for note_index in range(500):\n",
    "        prediction_input = np.reshape(pattern, (1, len(pattern), 1))\n",
    "        prediction_input = prediction_input / float(n_vocab)\n",
    "\n",
    "        prediction = model.predict(prediction_input, verbose=0)\n",
    "        \n",
    "        # Predicted output is the argmax(P(h|D))\n",
    "        index = np.argmax(prediction)\n",
    "        # Mapping the predicted interger back to the corresponding note\n",
    "        result = int_to_note[index]\n",
    "        # Storing the predicted output\n",
    "        prediction_output.append(result)\n",
    "\n",
    "        pattern.append(index)\n",
    "        # Next input to the model\n",
    "        pattern = pattern[1:len(pattern)]\n",
    "\n",
    "    print('Notes Generated...')\n",
    "    return prediction_output"
   ]
  },
  {
   "cell_type": "code",
   "execution_count": 45,
   "metadata": {
    "collapsed": true
   },
   "outputs": [],
   "source": [
    "def create_midi(prediction_output):\n",
    "    \"\"\" convert the output from the prediction to notes and create a midi file\n",
    "        from the notes \"\"\"\n",
    "    offset = 0\n",
    "    output_notes = []\n",
    "\n",
    "    # create note and chord objects based on the values generated by the model\n",
    "    for pattern in prediction_output:\n",
    "        # pattern is a chord\n",
    "        if ('.' in pattern) or pattern.isdigit():\n",
    "            notes_in_chord = pattern.split('.')\n",
    "            notes = []\n",
    "            for current_note in notes_in_chord:\n",
    "                new_note = note.Note(int(current_note))\n",
    "                new_note.storedInstrument = instrument.Piano()\n",
    "                notes.append(new_note)\n",
    "            new_chord = chord.Chord(notes)\n",
    "            new_chord.offset = offset\n",
    "            output_notes.append(new_chord)\n",
    "        # pattern is a note\n",
    "        else:\n",
    "            new_note = note.Note(pattern)\n",
    "            new_note.offset = offset\n",
    "            new_note.storedInstrument = instrument.Piano()\n",
    "            output_notes.append(new_note)\n",
    "\n",
    "        # increase offset each iteration so that notes do not stack\n",
    "        offset += 0.5\n",
    "\n",
    "    midi_stream = stream.Stream(output_notes)\n",
    "    \n",
    "    print('Saving Output file as midi....')\n",
    "\n",
    "    midi_stream.write('midi', fp='test_output4.mid')"
   ]
  },
  {
   "cell_type": "code",
   "execution_count": 46,
   "metadata": {},
   "outputs": [
    {
     "name": "stdout",
     "output_type": "stream",
     "text": [
      "Initiating music generation process.......\n",
      "Using given model\n",
      "Model Loaded\n",
      "Generating notes........\n",
      "Notes Generated...\n",
      "Saving Output file as midi....\n"
     ]
    }
   ],
   "source": [
    "#### Generate a new jazz music \n",
    "generate(model)"
   ]
  },
  {
   "cell_type": "code",
   "execution_count": 18,
   "metadata": {},
   "outputs": [
    {
     "ename": "NameError",
     "evalue": "name 'play' is not defined",
     "output_type": "error",
     "traceback": [
      "\u001b[0;31m---------------------------------------------------------------------------\u001b[0m",
      "\u001b[0;31mNameError\u001b[0m                                 Traceback (most recent call last)",
      "\u001b[0;32m<ipython-input-18-945f0006344c>\u001b[0m in \u001b[0;36m<module>\u001b[0;34m\u001b[0m\n\u001b[1;32m      1\u001b[0m \u001b[0;31m### Play the Jazz music\u001b[0m\u001b[0;34m\u001b[0m\u001b[0;34m\u001b[0m\u001b[0m\n\u001b[0;32m----> 2\u001b[0;31m \u001b[0mplay\u001b[0m\u001b[0;34m.\u001b[0m\u001b[0mplay_midi\u001b[0m\u001b[0;34m(\u001b[0m\u001b[0;34m'test_output4.mid'\u001b[0m\u001b[0;34m)\u001b[0m\u001b[0;34m\u001b[0m\u001b[0m\n\u001b[0m",
      "\u001b[0;31mNameError\u001b[0m: name 'play' is not defined"
     ]
    }
   ],
   "source": [
    "### Play the Jazz music\n",
    "play.play_midi('test_output4.mid')"
   ]
  },
  {
   "cell_type": "code",
   "execution_count": null,
   "metadata": {
    "collapsed": true
   },
   "outputs": [],
   "source": []
  }
 ],
 "metadata": {
  "kernelspec": {
   "display_name": "Python 3",
   "language": "python",
   "name": "python3"
  },
  "language_info": {
   "codemirror_mode": {
    "name": "ipython",
    "version": 3
   },
   "file_extension": ".py",
   "mimetype": "text/x-python",
   "name": "python",
   "nbconvert_exporter": "python",
   "pygments_lexer": "ipython3",
   "version": "3.6.4"
  }
 },
 "nbformat": 4,
 "nbformat_minor": 2
}
